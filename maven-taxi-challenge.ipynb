{
 "cells": [
  {
   "cell_type": "markdown",
   "metadata": {
    "collapsed": true,
    "pycharm": {
     "name": "#%% md\n"
    }
   },
   "source": [
    "# Maven Taxi Challenge\n",
    "Four years worth of NYC Taxi Trips to clean, analyze, and visualize using Tableau. The submission will be a Tableau dashboard that will answer:\n",
    "- average number of trips\n",
    "- average fare per trip\n",
    "- average distance traveled\n",
    "- change in trip volume\n",
    "- days / times of the week that are the busiest\n",
    "- popular pick-up and drop-off locations"
   ]
  },
  {
   "cell_type": "markdown",
   "source": [
    "### Data Review\n",
    "I will start by gathering the libraries I will need to work with the taxi data"
   ],
   "metadata": {
    "collapsed": false
   }
  },
  {
   "cell_type": "code",
   "execution_count": 7,
   "outputs": [],
   "source": [
    "# import libraries\n",
    "import os\n",
    "import glob\n",
    "import pandas as pd\n",
    "\n",
    "path = os.getcwd()"
   ],
   "metadata": {
    "collapsed": false,
    "pycharm": {
     "name": "#%%\n"
    }
   }
  },
  {
   "cell_type": "markdown",
   "source": [
    "Merge taxi_trip data into one dataframe"
   ],
   "metadata": {
    "collapsed": false,
    "pycharm": {
     "name": "#%% md\n"
    }
   }
  },
  {
   "cell_type": "code",
   "execution_count": 15,
   "outputs": [
    {
     "name": "stderr",
     "output_type": "stream",
     "text": [
      "/Users/lola/opt/anaconda3/lib/python3.7/site-packages/ipykernel_launcher.py:7: FutureWarning: Sorting because non-concatenation axis is not aligned. A future version\n",
      "of pandas will change to not sort by default.\n",
      "\n",
      "To accept the future behavior, pass 'sort=False'.\n",
      "\n",
      "To retain the current behavior and silence the warning, pass 'sort=True'.\n",
      "\n",
      "  import sys\n"
     ]
    },
    {
     "data": {
      "text/plain": "   DOLocationID  PULocationID  RatecodeID  VendorID  congestion_surcharge  \\\n0            75            74         1.0       2.0                   0.0   \n1            75            74         1.0       2.0                   0.0   \n2            75            74         1.0       2.0                   0.0   \n3            75            74         1.0       2.0                   0.0   \n4            75            74         1.0       2.0                   0.0   \n\n   extra  fare_amount  improvement_surcharge    lpep_dropoff_datetime  \\\n0    0.0          6.5                    0.3  2020-01-01 06:52:54.000   \n1    0.0          6.5                    0.3  2020-01-01 13:30:43.000   \n2    0.0          6.5                    0.3  2020-01-01 14:26:25.000   \n3    0.0          6.5                    0.3  2020-01-02 07:03:03.000   \n4    0.0          6.5                    0.3  2020-01-02 09:41:02.000   \n\n      lpep_pickup_datetime  mta_tax  passenger_count  payment_type  \\\n0  2020-01-01 06:47:28.000      0.5              1.0           2.0   \n1  2020-01-01 13:25:34.000      0.5              1.0           2.0   \n2  2020-01-01 14:20:35.000      0.5              1.0           2.0   \n3  2020-01-02 06:56:47.000      0.5              1.0           2.0   \n4  2020-01-02 09:34:46.000      0.5              1.0           2.0   \n\n  store_and_fwd_flag  tip_amount  tolls_amount  total_amount  trip_distance  \\\n0                  N         0.0           0.0           7.3           1.47   \n1                  N         0.0           0.0           7.3           1.49   \n2                  N         0.0           0.0           7.3           1.31   \n3                  N         0.0           0.0           7.3           1.43   \n4                  N         0.0           0.0           7.3           1.10   \n\n   trip_type  \n0        1.0  \n1        1.0  \n2        1.0  \n3        1.0  \n4        1.0  ",
      "text/html": "<div>\n<style scoped>\n    .dataframe tbody tr th:only-of-type {\n        vertical-align: middle;\n    }\n\n    .dataframe tbody tr th {\n        vertical-align: top;\n    }\n\n    .dataframe thead th {\n        text-align: right;\n    }\n</style>\n<table border=\"1\" class=\"dataframe\">\n  <thead>\n    <tr style=\"text-align: right;\">\n      <th></th>\n      <th>DOLocationID</th>\n      <th>PULocationID</th>\n      <th>RatecodeID</th>\n      <th>VendorID</th>\n      <th>congestion_surcharge</th>\n      <th>extra</th>\n      <th>fare_amount</th>\n      <th>improvement_surcharge</th>\n      <th>lpep_dropoff_datetime</th>\n      <th>lpep_pickup_datetime</th>\n      <th>mta_tax</th>\n      <th>passenger_count</th>\n      <th>payment_type</th>\n      <th>store_and_fwd_flag</th>\n      <th>tip_amount</th>\n      <th>tolls_amount</th>\n      <th>total_amount</th>\n      <th>trip_distance</th>\n      <th>trip_type</th>\n    </tr>\n  </thead>\n  <tbody>\n    <tr>\n      <td>0</td>\n      <td>75</td>\n      <td>74</td>\n      <td>1.0</td>\n      <td>2.0</td>\n      <td>0.0</td>\n      <td>0.0</td>\n      <td>6.5</td>\n      <td>0.3</td>\n      <td>2020-01-01 06:52:54.000</td>\n      <td>2020-01-01 06:47:28.000</td>\n      <td>0.5</td>\n      <td>1.0</td>\n      <td>2.0</td>\n      <td>N</td>\n      <td>0.0</td>\n      <td>0.0</td>\n      <td>7.3</td>\n      <td>1.47</td>\n      <td>1.0</td>\n    </tr>\n    <tr>\n      <td>1</td>\n      <td>75</td>\n      <td>74</td>\n      <td>1.0</td>\n      <td>2.0</td>\n      <td>0.0</td>\n      <td>0.0</td>\n      <td>6.5</td>\n      <td>0.3</td>\n      <td>2020-01-01 13:30:43.000</td>\n      <td>2020-01-01 13:25:34.000</td>\n      <td>0.5</td>\n      <td>1.0</td>\n      <td>2.0</td>\n      <td>N</td>\n      <td>0.0</td>\n      <td>0.0</td>\n      <td>7.3</td>\n      <td>1.49</td>\n      <td>1.0</td>\n    </tr>\n    <tr>\n      <td>2</td>\n      <td>75</td>\n      <td>74</td>\n      <td>1.0</td>\n      <td>2.0</td>\n      <td>0.0</td>\n      <td>0.0</td>\n      <td>6.5</td>\n      <td>0.3</td>\n      <td>2020-01-01 14:26:25.000</td>\n      <td>2020-01-01 14:20:35.000</td>\n      <td>0.5</td>\n      <td>1.0</td>\n      <td>2.0</td>\n      <td>N</td>\n      <td>0.0</td>\n      <td>0.0</td>\n      <td>7.3</td>\n      <td>1.31</td>\n      <td>1.0</td>\n    </tr>\n    <tr>\n      <td>3</td>\n      <td>75</td>\n      <td>74</td>\n      <td>1.0</td>\n      <td>2.0</td>\n      <td>0.0</td>\n      <td>0.0</td>\n      <td>6.5</td>\n      <td>0.3</td>\n      <td>2020-01-02 07:03:03.000</td>\n      <td>2020-01-02 06:56:47.000</td>\n      <td>0.5</td>\n      <td>1.0</td>\n      <td>2.0</td>\n      <td>N</td>\n      <td>0.0</td>\n      <td>0.0</td>\n      <td>7.3</td>\n      <td>1.43</td>\n      <td>1.0</td>\n    </tr>\n    <tr>\n      <td>4</td>\n      <td>75</td>\n      <td>74</td>\n      <td>1.0</td>\n      <td>2.0</td>\n      <td>0.0</td>\n      <td>0.0</td>\n      <td>6.5</td>\n      <td>0.3</td>\n      <td>2020-01-02 09:41:02.000</td>\n      <td>2020-01-02 09:34:46.000</td>\n      <td>0.5</td>\n      <td>1.0</td>\n      <td>2.0</td>\n      <td>N</td>\n      <td>0.0</td>\n      <td>0.0</td>\n      <td>7.3</td>\n      <td>1.10</td>\n      <td>1.0</td>\n    </tr>\n  </tbody>\n</table>\n</div>"
     },
     "execution_count": 15,
     "metadata": {},
     "output_type": "execute_result"
    }
   ],
   "source": [
    "# using glob to get all the csv files in the taxi_trips folder\n",
    "filepath = path + \"/taxi_trips/\"\n",
    "csv_files = glob.glob(os.path.join(filepath, \"*.csv\"))\n",
    "\n",
    "# read data from each csv file\n",
    "taxi_data = [pd.read_csv(file, low_memory=False) for file in csv_files]\n",
    "\n",
    "# append each file to the dataframe\n",
    "taxi_data = pd.concat(taxi_data)\n",
    "\n",
    "taxi_data.head()"
   ],
   "metadata": {
    "collapsed": false,
    "pycharm": {
     "name": "#%%\n"
    }
   }
  },
  {
   "cell_type": "code",
   "execution_count": 16,
   "outputs": [
    {
     "data": {
      "text/plain": "(28326071, 19)"
     },
     "execution_count": 16,
     "metadata": {},
     "output_type": "execute_result"
    }
   ],
   "source": [
    "# count of rows and columns\n",
    "taxi_data.shape"
   ],
   "metadata": {
    "collapsed": false,
    "pycharm": {
     "name": "#%%\n"
    }
   }
  },
  {
   "cell_type": "markdown",
   "source": [
    "#### Command Line Shortcuts\n",
    "Using the command line to do a quick count of each csv file to make sure the total number of rows in the taxi_data dataframe is equal to the total number of rows in all the csv files combined.\n",
    "- use ls to list files in the current directory\n",
    "- use cd folder-name/ to change directories\n",
    "- use wc -l < file-name.csv to count the number of lines in the file (keep in mind one line is the header)"
   ],
   "metadata": {
    "collapsed": false,
    "pycharm": {
     "name": "#%% md\n"
    }
   }
  },
  {
   "cell_type": "code",
   "execution_count": 17,
   "outputs": [
    {
     "data": {
      "text/plain": "DOLocationID               int64\nPULocationID               int64\nRatecodeID               float64\nVendorID                 float64\ncongestion_surcharge     float64\nextra                    float64\nfare_amount              float64\nimprovement_surcharge    float64\nlpep_dropoff_datetime     object\nlpep_pickup_datetime      object\nmta_tax                  float64\npassenger_count          float64\npayment_type             float64\nstore_and_fwd_flag        object\ntip_amount               float64\ntolls_amount             float64\ntotal_amount             float64\ntrip_distance            float64\ntrip_type                float64\ndtype: object"
     },
     "execution_count": 17,
     "metadata": {},
     "output_type": "execute_result"
    }
   ],
   "source": [
    "taxi_data.dtypes"
   ],
   "metadata": {
    "collapsed": false,
    "pycharm": {
     "name": "#%%\n"
    }
   }
  },
  {
   "cell_type": "code",
   "execution_count": 23,
   "outputs": [
    {
     "data": {
      "text/plain": "DOLocationID                    0\nPULocationID                    0\nRatecodeID                      0\nVendorID                        0\ncongestion_surcharge     21059703\nextra                           0\nfare_amount                     0\nimprovement_surcharge           0\nlpep_dropoff_datetime           0\nlpep_pickup_datetime            0\nmta_tax                         0\npassenger_count                 0\npayment_type                    0\nstore_and_fwd_flag              0\ntip_amount                      0\ntolls_amount                    0\ntotal_amount                    0\ntrip_distance                   0\ntrip_type                     365\ndtype: int64"
     },
     "execution_count": 23,
     "metadata": {},
     "output_type": "execute_result"
    }
   ],
   "source": [
    "# missing values in each column\n",
    "taxi_data.isnull().sum()"
   ],
   "metadata": {
    "collapsed": false,
    "pycharm": {
     "name": "#%%\n"
    }
   }
  },
  {
   "cell_type": "markdown",
   "source": [
    "### Data Cleaning\n",
    "The raw data has some issues, so instructions / assumptions were given to clean and prep the data"
   ],
   "metadata": {
    "collapsed": false,
    "pycharm": {
     "name": "#%% md\n"
    }
   }
  },
  {
   "cell_type": "code",
   "execution_count": 24,
   "outputs": [
    {
     "data": {
      "text/plain": "array(['N'], dtype=object)"
     },
     "execution_count": 24,
     "metadata": {},
     "output_type": "execute_result"
    }
   ],
   "source": [
    "# values in the \"store and forward\" column\n",
    "taxi_data[\"store_and_fwd_flag\"].unique()"
   ],
   "metadata": {
    "collapsed": false,
    "pycharm": {
     "name": "#%%\n"
    }
   }
  },
  {
   "cell_type": "code",
   "execution_count": 22,
   "outputs": [
    {
     "data": {
      "text/plain": "   DOLocationID  PULocationID  RatecodeID  VendorID  congestion_surcharge  \\\n0            75            74         1.0       2.0                   0.0   \n1            75            74         1.0       2.0                   0.0   \n2            75            74         1.0       2.0                   0.0   \n3            75            74         1.0       2.0                   0.0   \n4            75            74         1.0       2.0                   0.0   \n\n   extra  fare_amount  improvement_surcharge    lpep_dropoff_datetime  \\\n0    0.0          6.5                    0.3  2020-01-01 06:52:54.000   \n1    0.0          6.5                    0.3  2020-01-01 13:30:43.000   \n2    0.0          6.5                    0.3  2020-01-01 14:26:25.000   \n3    0.0          6.5                    0.3  2020-01-02 07:03:03.000   \n4    0.0          6.5                    0.3  2020-01-02 09:41:02.000   \n\n      lpep_pickup_datetime  mta_tax  passenger_count  payment_type  \\\n0  2020-01-01 06:47:28.000      0.5              1.0           2.0   \n1  2020-01-01 13:25:34.000      0.5              1.0           2.0   \n2  2020-01-01 14:20:35.000      0.5              1.0           2.0   \n3  2020-01-02 06:56:47.000      0.5              1.0           2.0   \n4  2020-01-02 09:34:46.000      0.5              1.0           2.0   \n\n  store_and_fwd_flag  tip_amount  tolls_amount  total_amount  trip_distance  \\\n0                  N         0.0           0.0           7.3           1.47   \n1                  N         0.0           0.0           7.3           1.49   \n2                  N         0.0           0.0           7.3           1.31   \n3                  N         0.0           0.0           7.3           1.43   \n4                  N         0.0           0.0           7.3           1.10   \n\n   trip_type  \n0        1.0  \n1        1.0  \n2        1.0  \n3        1.0  \n4        1.0  ",
      "text/html": "<div>\n<style scoped>\n    .dataframe tbody tr th:only-of-type {\n        vertical-align: middle;\n    }\n\n    .dataframe tbody tr th {\n        vertical-align: top;\n    }\n\n    .dataframe thead th {\n        text-align: right;\n    }\n</style>\n<table border=\"1\" class=\"dataframe\">\n  <thead>\n    <tr style=\"text-align: right;\">\n      <th></th>\n      <th>DOLocationID</th>\n      <th>PULocationID</th>\n      <th>RatecodeID</th>\n      <th>VendorID</th>\n      <th>congestion_surcharge</th>\n      <th>extra</th>\n      <th>fare_amount</th>\n      <th>improvement_surcharge</th>\n      <th>lpep_dropoff_datetime</th>\n      <th>lpep_pickup_datetime</th>\n      <th>mta_tax</th>\n      <th>passenger_count</th>\n      <th>payment_type</th>\n      <th>store_and_fwd_flag</th>\n      <th>tip_amount</th>\n      <th>tolls_amount</th>\n      <th>total_amount</th>\n      <th>trip_distance</th>\n      <th>trip_type</th>\n    </tr>\n  </thead>\n  <tbody>\n    <tr>\n      <td>0</td>\n      <td>75</td>\n      <td>74</td>\n      <td>1.0</td>\n      <td>2.0</td>\n      <td>0.0</td>\n      <td>0.0</td>\n      <td>6.5</td>\n      <td>0.3</td>\n      <td>2020-01-01 06:52:54.000</td>\n      <td>2020-01-01 06:47:28.000</td>\n      <td>0.5</td>\n      <td>1.0</td>\n      <td>2.0</td>\n      <td>N</td>\n      <td>0.0</td>\n      <td>0.0</td>\n      <td>7.3</td>\n      <td>1.47</td>\n      <td>1.0</td>\n    </tr>\n    <tr>\n      <td>1</td>\n      <td>75</td>\n      <td>74</td>\n      <td>1.0</td>\n      <td>2.0</td>\n      <td>0.0</td>\n      <td>0.0</td>\n      <td>6.5</td>\n      <td>0.3</td>\n      <td>2020-01-01 13:30:43.000</td>\n      <td>2020-01-01 13:25:34.000</td>\n      <td>0.5</td>\n      <td>1.0</td>\n      <td>2.0</td>\n      <td>N</td>\n      <td>0.0</td>\n      <td>0.0</td>\n      <td>7.3</td>\n      <td>1.49</td>\n      <td>1.0</td>\n    </tr>\n    <tr>\n      <td>2</td>\n      <td>75</td>\n      <td>74</td>\n      <td>1.0</td>\n      <td>2.0</td>\n      <td>0.0</td>\n      <td>0.0</td>\n      <td>6.5</td>\n      <td>0.3</td>\n      <td>2020-01-01 14:26:25.000</td>\n      <td>2020-01-01 14:20:35.000</td>\n      <td>0.5</td>\n      <td>1.0</td>\n      <td>2.0</td>\n      <td>N</td>\n      <td>0.0</td>\n      <td>0.0</td>\n      <td>7.3</td>\n      <td>1.31</td>\n      <td>1.0</td>\n    </tr>\n    <tr>\n      <td>3</td>\n      <td>75</td>\n      <td>74</td>\n      <td>1.0</td>\n      <td>2.0</td>\n      <td>0.0</td>\n      <td>0.0</td>\n      <td>6.5</td>\n      <td>0.3</td>\n      <td>2020-01-02 07:03:03.000</td>\n      <td>2020-01-02 06:56:47.000</td>\n      <td>0.5</td>\n      <td>1.0</td>\n      <td>2.0</td>\n      <td>N</td>\n      <td>0.0</td>\n      <td>0.0</td>\n      <td>7.3</td>\n      <td>1.43</td>\n      <td>1.0</td>\n    </tr>\n    <tr>\n      <td>4</td>\n      <td>75</td>\n      <td>74</td>\n      <td>1.0</td>\n      <td>2.0</td>\n      <td>0.0</td>\n      <td>0.0</td>\n      <td>6.5</td>\n      <td>0.3</td>\n      <td>2020-01-02 09:41:02.000</td>\n      <td>2020-01-02 09:34:46.000</td>\n      <td>0.5</td>\n      <td>1.0</td>\n      <td>2.0</td>\n      <td>N</td>\n      <td>0.0</td>\n      <td>0.0</td>\n      <td>7.3</td>\n      <td>1.10</td>\n      <td>1.0</td>\n    </tr>\n  </tbody>\n</table>\n</div>"
     },
     "execution_count": 22,
     "metadata": {},
     "output_type": "execute_result"
    }
   ],
   "source": [
    "# Keep trips that were not sent via \"store and forward\"\n",
    "taxi_data = taxi_data[taxi_data[\"store_and_fwd_flag\"] == \"N\"]\n",
    "taxi_data.head()"
   ],
   "metadata": {
    "collapsed": false,
    "pycharm": {
     "name": "#%%\n"
    }
   }
  },
  {
   "cell_type": "code",
   "execution_count": 31,
   "outputs": [
    {
     "data": {
      "text/plain": "array([2., 1.])"
     },
     "execution_count": 31,
     "metadata": {},
     "output_type": "execute_result"
    }
   ],
   "source": [
    "taxi_data[\"payment_type\"].unique()"
   ],
   "metadata": {
    "collapsed": false,
    "pycharm": {
     "name": "#%%\n"
    }
   }
  },
  {
   "cell_type": "code",
   "execution_count": 30,
   "outputs": [],
   "source": [
    "# keep trips where payment type is equal to 1 - Credit Card or 2 - Cash\n",
    "taxi_data = taxi_data[taxi_data[\"payment_type\"].isin([1.0, 2.0])]"
   ],
   "metadata": {
    "collapsed": false,
    "pycharm": {
     "name": "#%%\n"
    }
   }
  },
  {
   "cell_type": "code",
   "execution_count": 32,
   "outputs": [
    {
     "data": {
      "text/plain": "array([ 1.,  5.,  2.,  3.,  4.,  6., 99.])"
     },
     "execution_count": 32,
     "metadata": {},
     "output_type": "execute_result"
    }
   ],
   "source": [
    "taxi_data[\"RatecodeID\"].unique()"
   ],
   "metadata": {
    "collapsed": false,
    "pycharm": {
     "name": "#%%\n"
    }
   }
  },
  {
   "cell_type": "code",
   "execution_count": 33,
   "outputs": [
    {
     "data": {
      "text/plain": "   DOLocationID  PULocationID  RatecodeID  VendorID  congestion_surcharge  \\\n0            75            74         1.0       2.0                   0.0   \n1            75            74         1.0       2.0                   0.0   \n2            75            74         1.0       2.0                   0.0   \n3            75            74         1.0       2.0                   0.0   \n4            75            74         1.0       2.0                   0.0   \n\n   extra  fare_amount  improvement_surcharge    lpep_dropoff_datetime  \\\n0    0.0          6.5                    0.3  2020-01-01 06:52:54.000   \n1    0.0          6.5                    0.3  2020-01-01 13:30:43.000   \n2    0.0          6.5                    0.3  2020-01-01 14:26:25.000   \n3    0.0          6.5                    0.3  2020-01-02 07:03:03.000   \n4    0.0          6.5                    0.3  2020-01-02 09:41:02.000   \n\n      lpep_pickup_datetime  mta_tax  passenger_count  payment_type  \\\n0  2020-01-01 06:47:28.000      0.5              1.0           2.0   \n1  2020-01-01 13:25:34.000      0.5              1.0           2.0   \n2  2020-01-01 14:20:35.000      0.5              1.0           2.0   \n3  2020-01-02 06:56:47.000      0.5              1.0           2.0   \n4  2020-01-02 09:34:46.000      0.5              1.0           2.0   \n\n  store_and_fwd_flag  tip_amount  tolls_amount  total_amount  trip_distance  \\\n0                  N         0.0           0.0           7.3           1.47   \n1                  N         0.0           0.0           7.3           1.49   \n2                  N         0.0           0.0           7.3           1.31   \n3                  N         0.0           0.0           7.3           1.43   \n4                  N         0.0           0.0           7.3           1.10   \n\n   trip_type  \n0        1.0  \n1        1.0  \n2        1.0  \n3        1.0  \n4        1.0  ",
      "text/html": "<div>\n<style scoped>\n    .dataframe tbody tr th:only-of-type {\n        vertical-align: middle;\n    }\n\n    .dataframe tbody tr th {\n        vertical-align: top;\n    }\n\n    .dataframe thead th {\n        text-align: right;\n    }\n</style>\n<table border=\"1\" class=\"dataframe\">\n  <thead>\n    <tr style=\"text-align: right;\">\n      <th></th>\n      <th>DOLocationID</th>\n      <th>PULocationID</th>\n      <th>RatecodeID</th>\n      <th>VendorID</th>\n      <th>congestion_surcharge</th>\n      <th>extra</th>\n      <th>fare_amount</th>\n      <th>improvement_surcharge</th>\n      <th>lpep_dropoff_datetime</th>\n      <th>lpep_pickup_datetime</th>\n      <th>mta_tax</th>\n      <th>passenger_count</th>\n      <th>payment_type</th>\n      <th>store_and_fwd_flag</th>\n      <th>tip_amount</th>\n      <th>tolls_amount</th>\n      <th>total_amount</th>\n      <th>trip_distance</th>\n      <th>trip_type</th>\n    </tr>\n  </thead>\n  <tbody>\n    <tr>\n      <td>0</td>\n      <td>75</td>\n      <td>74</td>\n      <td>1.0</td>\n      <td>2.0</td>\n      <td>0.0</td>\n      <td>0.0</td>\n      <td>6.5</td>\n      <td>0.3</td>\n      <td>2020-01-01 06:52:54.000</td>\n      <td>2020-01-01 06:47:28.000</td>\n      <td>0.5</td>\n      <td>1.0</td>\n      <td>2.0</td>\n      <td>N</td>\n      <td>0.0</td>\n      <td>0.0</td>\n      <td>7.3</td>\n      <td>1.47</td>\n      <td>1.0</td>\n    </tr>\n    <tr>\n      <td>1</td>\n      <td>75</td>\n      <td>74</td>\n      <td>1.0</td>\n      <td>2.0</td>\n      <td>0.0</td>\n      <td>0.0</td>\n      <td>6.5</td>\n      <td>0.3</td>\n      <td>2020-01-01 13:30:43.000</td>\n      <td>2020-01-01 13:25:34.000</td>\n      <td>0.5</td>\n      <td>1.0</td>\n      <td>2.0</td>\n      <td>N</td>\n      <td>0.0</td>\n      <td>0.0</td>\n      <td>7.3</td>\n      <td>1.49</td>\n      <td>1.0</td>\n    </tr>\n    <tr>\n      <td>2</td>\n      <td>75</td>\n      <td>74</td>\n      <td>1.0</td>\n      <td>2.0</td>\n      <td>0.0</td>\n      <td>0.0</td>\n      <td>6.5</td>\n      <td>0.3</td>\n      <td>2020-01-01 14:26:25.000</td>\n      <td>2020-01-01 14:20:35.000</td>\n      <td>0.5</td>\n      <td>1.0</td>\n      <td>2.0</td>\n      <td>N</td>\n      <td>0.0</td>\n      <td>0.0</td>\n      <td>7.3</td>\n      <td>1.31</td>\n      <td>1.0</td>\n    </tr>\n    <tr>\n      <td>3</td>\n      <td>75</td>\n      <td>74</td>\n      <td>1.0</td>\n      <td>2.0</td>\n      <td>0.0</td>\n      <td>0.0</td>\n      <td>6.5</td>\n      <td>0.3</td>\n      <td>2020-01-02 07:03:03.000</td>\n      <td>2020-01-02 06:56:47.000</td>\n      <td>0.5</td>\n      <td>1.0</td>\n      <td>2.0</td>\n      <td>N</td>\n      <td>0.0</td>\n      <td>0.0</td>\n      <td>7.3</td>\n      <td>1.43</td>\n      <td>1.0</td>\n    </tr>\n    <tr>\n      <td>4</td>\n      <td>75</td>\n      <td>74</td>\n      <td>1.0</td>\n      <td>2.0</td>\n      <td>0.0</td>\n      <td>0.0</td>\n      <td>6.5</td>\n      <td>0.3</td>\n      <td>2020-01-02 09:41:02.000</td>\n      <td>2020-01-02 09:34:46.000</td>\n      <td>0.5</td>\n      <td>1.0</td>\n      <td>2.0</td>\n      <td>N</td>\n      <td>0.0</td>\n      <td>0.0</td>\n      <td>7.3</td>\n      <td>1.10</td>\n      <td>1.0</td>\n    </tr>\n  </tbody>\n</table>\n</div>"
     },
     "execution_count": 33,
     "metadata": {},
     "output_type": "execute_result"
    }
   ],
   "source": [
    "# keep trips where RatecodeID is equal to 1 - Standard Rate\n",
    "taxi_data = taxi_data[taxi_data[\"RatecodeID\"] == 1.0]\n",
    "taxi_data.head()"
   ],
   "metadata": {
    "collapsed": false,
    "pycharm": {
     "name": "#%%\n"
    }
   }
  },
  {
   "cell_type": "code",
   "execution_count": 34,
   "outputs": [
    {
     "data": {
      "text/plain": "DOLocationID                    0\nPULocationID                    0\nRatecodeID                      0\nVendorID                        0\ncongestion_surcharge     20359525\nextra                           0\nfare_amount                     0\nimprovement_surcharge           0\nlpep_dropoff_datetime           0\nlpep_pickup_datetime            0\nmta_tax                         0\npassenger_count                 0\npayment_type                    0\nstore_and_fwd_flag              0\ntip_amount                      0\ntolls_amount                    0\ntotal_amount                    0\ntrip_distance                   0\ntrip_type                     354\ndtype: int64"
     },
     "execution_count": 34,
     "metadata": {},
     "output_type": "execute_result"
    }
   ],
   "source": [
    "taxi_data.isnull().sum()"
   ],
   "metadata": {
    "collapsed": false,
    "pycharm": {
     "name": "#%%\n"
    }
   }
  },
  {
   "cell_type": "code",
   "execution_count": null,
   "outputs": [],
   "source": [],
   "metadata": {
    "collapsed": false,
    "pycharm": {
     "name": "#%%\n"
    }
   }
  }
 ],
 "metadata": {
  "kernelspec": {
   "display_name": "Python 3",
   "language": "python",
   "name": "python3"
  },
  "language_info": {
   "codemirror_mode": {
    "name": "ipython",
    "version": 2
   },
   "file_extension": ".py",
   "mimetype": "text/x-python",
   "name": "python",
   "nbconvert_exporter": "python",
   "pygments_lexer": "ipython2",
   "version": "2.7.6"
  }
 },
 "nbformat": 4,
 "nbformat_minor": 0
}