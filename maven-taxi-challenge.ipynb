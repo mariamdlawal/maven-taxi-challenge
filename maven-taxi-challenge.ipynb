{
 "cells": [
  {
   "cell_type": "markdown",
   "source": [
    "# Maven Taxi Challenge\n",
    "Four years worth of NYC Taxi Trips to clean, analyze, and visualize using Tableau. The submission will be a Tableau dashboard that will answer:\n",
    "- average number of trips\n",
    "- average fare per trip\n",
    "- average distance traveled\n",
    "- change in trip volume\n",
    "- days / times of the week that are the busiest\n",
    "- popular pick-up and drop-off locations"
   ],
   "metadata": {
    "collapsed": false
   }
  },
  {
   "cell_type": "markdown",
   "source": [
    "### Data Review\n",
    "I will start by gathering the libraries I will need to work with the taxi data"
   ],
   "metadata": {
    "collapsed": false
   }
  },
  {
   "cell_type": "code",
   "execution_count": 7,
   "outputs": [],
   "source": [
    "# import libraries\n",
    "import os\n",
    "import glob\n",
    "import pandas as pd\n",
    "\n",
    "path = os.getcwd()"
   ],
   "metadata": {
    "collapsed": false,
    "pycharm": {
     "name": "#%%\n"
    }
   }
  },
  {
   "cell_type": "markdown",
   "source": [
    "Merge taxi_trip data into one dataframe"
   ],
   "metadata": {
    "collapsed": false,
    "pycharm": {
     "name": "#%% md\n"
    }
   }
  },
  {
   "cell_type": "code",
   "execution_count": 15,
   "outputs": [
    {
     "name": "stderr",
     "output_type": "stream",
     "text": [
      "/Users/lola/opt/anaconda3/lib/python3.7/site-packages/ipykernel_launcher.py:7: FutureWarning: Sorting because non-concatenation axis is not aligned. A future version\n",
      "of pandas will change to not sort by default.\n",
      "\n",
      "To accept the future behavior, pass 'sort=False'.\n",
      "\n",
      "To retain the current behavior and silence the warning, pass 'sort=True'.\n",
      "\n",
      "  import sys\n"
     ]
    },
    {
     "data": {
      "text/plain": "   DOLocationID  PULocationID  RatecodeID  VendorID  congestion_surcharge  \\\n0            75            74         1.0       2.0                   0.0   \n1            75            74         1.0       2.0                   0.0   \n2            75            74         1.0       2.0                   0.0   \n3            75            74         1.0       2.0                   0.0   \n4            75            74         1.0       2.0                   0.0   \n\n   extra  fare_amount  improvement_surcharge    lpep_dropoff_datetime  \\\n0    0.0          6.5                    0.3  2020-01-01 06:52:54.000   \n1    0.0          6.5                    0.3  2020-01-01 13:30:43.000   \n2    0.0          6.5                    0.3  2020-01-01 14:26:25.000   \n3    0.0          6.5                    0.3  2020-01-02 07:03:03.000   \n4    0.0          6.5                    0.3  2020-01-02 09:41:02.000   \n\n      lpep_pickup_datetime  mta_tax  passenger_count  payment_type  \\\n0  2020-01-01 06:47:28.000      0.5              1.0           2.0   \n1  2020-01-01 13:25:34.000      0.5              1.0           2.0   \n2  2020-01-01 14:20:35.000      0.5              1.0           2.0   \n3  2020-01-02 06:56:47.000      0.5              1.0           2.0   \n4  2020-01-02 09:34:46.000      0.5              1.0           2.0   \n\n  store_and_fwd_flag  tip_amount  tolls_amount  total_amount  trip_distance  \\\n0                  N         0.0           0.0           7.3           1.47   \n1                  N         0.0           0.0           7.3           1.49   \n2                  N         0.0           0.0           7.3           1.31   \n3                  N         0.0           0.0           7.3           1.43   \n4                  N         0.0           0.0           7.3           1.10   \n\n   trip_type  \n0        1.0  \n1        1.0  \n2        1.0  \n3        1.0  \n4        1.0  ",
      "text/html": "<div>\n<style scoped>\n    .dataframe tbody tr th:only-of-type {\n        vertical-align: middle;\n    }\n\n    .dataframe tbody tr th {\n        vertical-align: top;\n    }\n\n    .dataframe thead th {\n        text-align: right;\n    }\n</style>\n<table border=\"1\" class=\"dataframe\">\n  <thead>\n    <tr style=\"text-align: right;\">\n      <th></th>\n      <th>DOLocationID</th>\n      <th>PULocationID</th>\n      <th>RatecodeID</th>\n      <th>VendorID</th>\n      <th>congestion_surcharge</th>\n      <th>extra</th>\n      <th>fare_amount</th>\n      <th>improvement_surcharge</th>\n      <th>lpep_dropoff_datetime</th>\n      <th>lpep_pickup_datetime</th>\n      <th>mta_tax</th>\n      <th>passenger_count</th>\n      <th>payment_type</th>\n      <th>store_and_fwd_flag</th>\n      <th>tip_amount</th>\n      <th>tolls_amount</th>\n      <th>total_amount</th>\n      <th>trip_distance</th>\n      <th>trip_type</th>\n    </tr>\n  </thead>\n  <tbody>\n    <tr>\n      <td>0</td>\n      <td>75</td>\n      <td>74</td>\n      <td>1.0</td>\n      <td>2.0</td>\n      <td>0.0</td>\n      <td>0.0</td>\n      <td>6.5</td>\n      <td>0.3</td>\n      <td>2020-01-01 06:52:54.000</td>\n      <td>2020-01-01 06:47:28.000</td>\n      <td>0.5</td>\n      <td>1.0</td>\n      <td>2.0</td>\n      <td>N</td>\n      <td>0.0</td>\n      <td>0.0</td>\n      <td>7.3</td>\n      <td>1.47</td>\n      <td>1.0</td>\n    </tr>\n    <tr>\n      <td>1</td>\n      <td>75</td>\n      <td>74</td>\n      <td>1.0</td>\n      <td>2.0</td>\n      <td>0.0</td>\n      <td>0.0</td>\n      <td>6.5</td>\n      <td>0.3</td>\n      <td>2020-01-01 13:30:43.000</td>\n      <td>2020-01-01 13:25:34.000</td>\n      <td>0.5</td>\n      <td>1.0</td>\n      <td>2.0</td>\n      <td>N</td>\n      <td>0.0</td>\n      <td>0.0</td>\n      <td>7.3</td>\n      <td>1.49</td>\n      <td>1.0</td>\n    </tr>\n    <tr>\n      <td>2</td>\n      <td>75</td>\n      <td>74</td>\n      <td>1.0</td>\n      <td>2.0</td>\n      <td>0.0</td>\n      <td>0.0</td>\n      <td>6.5</td>\n      <td>0.3</td>\n      <td>2020-01-01 14:26:25.000</td>\n      <td>2020-01-01 14:20:35.000</td>\n      <td>0.5</td>\n      <td>1.0</td>\n      <td>2.0</td>\n      <td>N</td>\n      <td>0.0</td>\n      <td>0.0</td>\n      <td>7.3</td>\n      <td>1.31</td>\n      <td>1.0</td>\n    </tr>\n    <tr>\n      <td>3</td>\n      <td>75</td>\n      <td>74</td>\n      <td>1.0</td>\n      <td>2.0</td>\n      <td>0.0</td>\n      <td>0.0</td>\n      <td>6.5</td>\n      <td>0.3</td>\n      <td>2020-01-02 07:03:03.000</td>\n      <td>2020-01-02 06:56:47.000</td>\n      <td>0.5</td>\n      <td>1.0</td>\n      <td>2.0</td>\n      <td>N</td>\n      <td>0.0</td>\n      <td>0.0</td>\n      <td>7.3</td>\n      <td>1.43</td>\n      <td>1.0</td>\n    </tr>\n    <tr>\n      <td>4</td>\n      <td>75</td>\n      <td>74</td>\n      <td>1.0</td>\n      <td>2.0</td>\n      <td>0.0</td>\n      <td>0.0</td>\n      <td>6.5</td>\n      <td>0.3</td>\n      <td>2020-01-02 09:41:02.000</td>\n      <td>2020-01-02 09:34:46.000</td>\n      <td>0.5</td>\n      <td>1.0</td>\n      <td>2.0</td>\n      <td>N</td>\n      <td>0.0</td>\n      <td>0.0</td>\n      <td>7.3</td>\n      <td>1.10</td>\n      <td>1.0</td>\n    </tr>\n  </tbody>\n</table>\n</div>"
     },
     "execution_count": 15,
     "metadata": {},
     "output_type": "execute_result"
    }
   ],
   "source": [
    "# using glob to get all the csv files in the taxi_trips folder\n",
    "filepath = path + \"/taxi_trips/\"\n",
    "csv_files = glob.glob(os.path.join(filepath, \"*.csv\"))\n",
    "\n",
    "# read data from each csv file\n",
    "taxi_data = [pd.read_csv(file, low_memory=False) for file in csv_files]\n",
    "\n",
    "# append each file to the dataframe\n",
    "taxi_data = pd.concat(taxi_data)\n",
    "\n",
    "taxi_data.head()"
   ],
   "metadata": {
    "collapsed": false,
    "pycharm": {
     "name": "#%%\n"
    }
   }
  },
  {
   "cell_type": "code",
   "execution_count": 16,
   "outputs": [
    {
     "data": {
      "text/plain": "(28326071, 19)"
     },
     "execution_count": 16,
     "metadata": {},
     "output_type": "execute_result"
    }
   ],
   "source": [
    "# count of rows and columns\n",
    "taxi_data.shape"
   ],
   "metadata": {
    "collapsed": false,
    "pycharm": {
     "name": "#%%\n"
    }
   }
  },
  {
   "cell_type": "markdown",
   "source": [
    "#### Command Line Shortcuts\n",
    "Using the command line to do a quick count of each csv file to make sure the total number of rows in the taxi_data dataframe is equal to the total number of rows in all the csv files combined.\n",
    "- use ls to list files in the current directory\n",
    "- use cd folder-name/ to change directories\n",
    "- use wc -l < file-name.csv to count the number of lines in the file (keep in mind one line is the header)"
   ],
   "metadata": {
    "collapsed": false,
    "pycharm": {
     "name": "#%% md\n"
    }
   }
  },
  {
   "cell_type": "code",
   "execution_count": 17,
   "outputs": [
    {
     "data": {
      "text/plain": "DOLocationID               int64\nPULocationID               int64\nRatecodeID               float64\nVendorID                 float64\ncongestion_surcharge     float64\nextra                    float64\nfare_amount              float64\nimprovement_surcharge    float64\nlpep_dropoff_datetime     object\nlpep_pickup_datetime      object\nmta_tax                  float64\npassenger_count          float64\npayment_type             float64\nstore_and_fwd_flag        object\ntip_amount               float64\ntolls_amount             float64\ntotal_amount             float64\ntrip_distance            float64\ntrip_type                float64\ndtype: object"
     },
     "execution_count": 17,
     "metadata": {},
     "output_type": "execute_result"
    }
   ],
   "source": [
    "taxi_data.dtypes"
   ],
   "metadata": {
    "collapsed": false,
    "pycharm": {
     "name": "#%%\n"
    }
   }
  },
  {
   "cell_type": "code",
   "execution_count": 23,
   "outputs": [
    {
     "data": {
      "text/plain": "DOLocationID                    0\nPULocationID                    0\nRatecodeID                      0\nVendorID                        0\ncongestion_surcharge     21059703\nextra                           0\nfare_amount                     0\nimprovement_surcharge           0\nlpep_dropoff_datetime           0\nlpep_pickup_datetime            0\nmta_tax                         0\npassenger_count                 0\npayment_type                    0\nstore_and_fwd_flag              0\ntip_amount                      0\ntolls_amount                    0\ntotal_amount                    0\ntrip_distance                   0\ntrip_type                     365\ndtype: int64"
     },
     "execution_count": 23,
     "metadata": {},
     "output_type": "execute_result"
    }
   ],
   "source": [
    "# missing values in each column\n",
    "taxi_data.isnull().sum()"
   ],
   "metadata": {
    "collapsed": false,
    "pycharm": {
     "name": "#%%\n"
    }
   }
  },
  {
   "cell_type": "markdown",
   "source": [
    "### Data Cleaning\n",
    "The raw data has some issues, so instructions / assumptions were given to clean and prep the data"
   ],
   "metadata": {
    "collapsed": false,
    "pycharm": {
     "name": "#%% md\n"
    }
   }
  },
  {
   "cell_type": "code",
   "execution_count": 24,
   "outputs": [
    {
     "data": {
      "text/plain": "array(['N'], dtype=object)"
     },
     "execution_count": 24,
     "metadata": {},
     "output_type": "execute_result"
    }
   ],
   "source": [
    "# values in the \"store and forward\" column\n",
    "taxi_data[\"store_and_fwd_flag\"].unique()"
   ],
   "metadata": {
    "collapsed": false,
    "pycharm": {
     "name": "#%%\n"
    }
   }
  },
  {
   "cell_type": "code",
   "execution_count": 22,
   "outputs": [
    {
     "data": {
      "text/plain": "   DOLocationID  PULocationID  RatecodeID  VendorID  congestion_surcharge  \\\n0            75            74         1.0       2.0                   0.0   \n1            75            74         1.0       2.0                   0.0   \n2            75            74         1.0       2.0                   0.0   \n3            75            74         1.0       2.0                   0.0   \n4            75            74         1.0       2.0                   0.0   \n\n   extra  fare_amount  improvement_surcharge    lpep_dropoff_datetime  \\\n0    0.0          6.5                    0.3  2020-01-01 06:52:54.000   \n1    0.0          6.5                    0.3  2020-01-01 13:30:43.000   \n2    0.0          6.5                    0.3  2020-01-01 14:26:25.000   \n3    0.0          6.5                    0.3  2020-01-02 07:03:03.000   \n4    0.0          6.5                    0.3  2020-01-02 09:41:02.000   \n\n      lpep_pickup_datetime  mta_tax  passenger_count  payment_type  \\\n0  2020-01-01 06:47:28.000      0.5              1.0           2.0   \n1  2020-01-01 13:25:34.000      0.5              1.0           2.0   \n2  2020-01-01 14:20:35.000      0.5              1.0           2.0   \n3  2020-01-02 06:56:47.000      0.5              1.0           2.0   \n4  2020-01-02 09:34:46.000      0.5              1.0           2.0   \n\n  store_and_fwd_flag  tip_amount  tolls_amount  total_amount  trip_distance  \\\n0                  N         0.0           0.0           7.3           1.47   \n1                  N         0.0           0.0           7.3           1.49   \n2                  N         0.0           0.0           7.3           1.31   \n3                  N         0.0           0.0           7.3           1.43   \n4                  N         0.0           0.0           7.3           1.10   \n\n   trip_type  \n0        1.0  \n1        1.0  \n2        1.0  \n3        1.0  \n4        1.0  ",
      "text/html": "<div>\n<style scoped>\n    .dataframe tbody tr th:only-of-type {\n        vertical-align: middle;\n    }\n\n    .dataframe tbody tr th {\n        vertical-align: top;\n    }\n\n    .dataframe thead th {\n        text-align: right;\n    }\n</style>\n<table border=\"1\" class=\"dataframe\">\n  <thead>\n    <tr style=\"text-align: right;\">\n      <th></th>\n      <th>DOLocationID</th>\n      <th>PULocationID</th>\n      <th>RatecodeID</th>\n      <th>VendorID</th>\n      <th>congestion_surcharge</th>\n      <th>extra</th>\n      <th>fare_amount</th>\n      <th>improvement_surcharge</th>\n      <th>lpep_dropoff_datetime</th>\n      <th>lpep_pickup_datetime</th>\n      <th>mta_tax</th>\n      <th>passenger_count</th>\n      <th>payment_type</th>\n      <th>store_and_fwd_flag</th>\n      <th>tip_amount</th>\n      <th>tolls_amount</th>\n      <th>total_amount</th>\n      <th>trip_distance</th>\n      <th>trip_type</th>\n    </tr>\n  </thead>\n  <tbody>\n    <tr>\n      <td>0</td>\n      <td>75</td>\n      <td>74</td>\n      <td>1.0</td>\n      <td>2.0</td>\n      <td>0.0</td>\n      <td>0.0</td>\n      <td>6.5</td>\n      <td>0.3</td>\n      <td>2020-01-01 06:52:54.000</td>\n      <td>2020-01-01 06:47:28.000</td>\n      <td>0.5</td>\n      <td>1.0</td>\n      <td>2.0</td>\n      <td>N</td>\n      <td>0.0</td>\n      <td>0.0</td>\n      <td>7.3</td>\n      <td>1.47</td>\n      <td>1.0</td>\n    </tr>\n    <tr>\n      <td>1</td>\n      <td>75</td>\n      <td>74</td>\n      <td>1.0</td>\n      <td>2.0</td>\n      <td>0.0</td>\n      <td>0.0</td>\n      <td>6.5</td>\n      <td>0.3</td>\n      <td>2020-01-01 13:30:43.000</td>\n      <td>2020-01-01 13:25:34.000</td>\n      <td>0.5</td>\n      <td>1.0</td>\n      <td>2.0</td>\n      <td>N</td>\n      <td>0.0</td>\n      <td>0.0</td>\n      <td>7.3</td>\n      <td>1.49</td>\n      <td>1.0</td>\n    </tr>\n    <tr>\n      <td>2</td>\n      <td>75</td>\n      <td>74</td>\n      <td>1.0</td>\n      <td>2.0</td>\n      <td>0.0</td>\n      <td>0.0</td>\n      <td>6.5</td>\n      <td>0.3</td>\n      <td>2020-01-01 14:26:25.000</td>\n      <td>2020-01-01 14:20:35.000</td>\n      <td>0.5</td>\n      <td>1.0</td>\n      <td>2.0</td>\n      <td>N</td>\n      <td>0.0</td>\n      <td>0.0</td>\n      <td>7.3</td>\n      <td>1.31</td>\n      <td>1.0</td>\n    </tr>\n    <tr>\n      <td>3</td>\n      <td>75</td>\n      <td>74</td>\n      <td>1.0</td>\n      <td>2.0</td>\n      <td>0.0</td>\n      <td>0.0</td>\n      <td>6.5</td>\n      <td>0.3</td>\n      <td>2020-01-02 07:03:03.000</td>\n      <td>2020-01-02 06:56:47.000</td>\n      <td>0.5</td>\n      <td>1.0</td>\n      <td>2.0</td>\n      <td>N</td>\n      <td>0.0</td>\n      <td>0.0</td>\n      <td>7.3</td>\n      <td>1.43</td>\n      <td>1.0</td>\n    </tr>\n    <tr>\n      <td>4</td>\n      <td>75</td>\n      <td>74</td>\n      <td>1.0</td>\n      <td>2.0</td>\n      <td>0.0</td>\n      <td>0.0</td>\n      <td>6.5</td>\n      <td>0.3</td>\n      <td>2020-01-02 09:41:02.000</td>\n      <td>2020-01-02 09:34:46.000</td>\n      <td>0.5</td>\n      <td>1.0</td>\n      <td>2.0</td>\n      <td>N</td>\n      <td>0.0</td>\n      <td>0.0</td>\n      <td>7.3</td>\n      <td>1.10</td>\n      <td>1.0</td>\n    </tr>\n  </tbody>\n</table>\n</div>"
     },
     "execution_count": 22,
     "metadata": {},
     "output_type": "execute_result"
    }
   ],
   "source": [
    "# Keep trips that were not sent via \"store and forward\"\n",
    "taxi_data = taxi_data[taxi_data[\"store_and_fwd_flag\"] == \"N\"]\n",
    "taxi_data.head()"
   ],
   "metadata": {
    "collapsed": false,
    "pycharm": {
     "name": "#%%\n"
    }
   }
  },
  {
   "cell_type": "code",
   "execution_count": 31,
   "outputs": [
    {
     "data": {
      "text/plain": "array([2., 1.])"
     },
     "execution_count": 31,
     "metadata": {},
     "output_type": "execute_result"
    }
   ],
   "source": [
    "taxi_data[\"payment_type\"].unique()"
   ],
   "metadata": {
    "collapsed": false,
    "pycharm": {
     "name": "#%%\n"
    }
   }
  },
  {
   "cell_type": "code",
   "execution_count": 30,
   "outputs": [],
   "source": [
    "# keep trips where payment type is equal to 1 - Credit Card or 2 - Cash\n",
    "taxi_data = taxi_data[taxi_data[\"payment_type\"].isin([1.0, 2.0])]"
   ],
   "metadata": {
    "collapsed": false,
    "pycharm": {
     "name": "#%%\n"
    }
   }
  },
  {
   "cell_type": "code",
   "execution_count": 32,
   "outputs": [
    {
     "data": {
      "text/plain": "array([ 1.,  5.,  2.,  3.,  4.,  6., 99.])"
     },
     "execution_count": 32,
     "metadata": {},
     "output_type": "execute_result"
    }
   ],
   "source": [
    "taxi_data[\"RatecodeID\"].unique()"
   ],
   "metadata": {
    "collapsed": false,
    "pycharm": {
     "name": "#%%\n"
    }
   }
  },
  {
   "cell_type": "code",
   "execution_count": 33,
   "outputs": [
    {
     "data": {
      "text/plain": "   DOLocationID  PULocationID  RatecodeID  VendorID  congestion_surcharge  \\\n0            75            74         1.0       2.0                   0.0   \n1            75            74         1.0       2.0                   0.0   \n2            75            74         1.0       2.0                   0.0   \n3            75            74         1.0       2.0                   0.0   \n4            75            74         1.0       2.0                   0.0   \n\n   extra  fare_amount  improvement_surcharge    lpep_dropoff_datetime  \\\n0    0.0          6.5                    0.3  2020-01-01 06:52:54.000   \n1    0.0          6.5                    0.3  2020-01-01 13:30:43.000   \n2    0.0          6.5                    0.3  2020-01-01 14:26:25.000   \n3    0.0          6.5                    0.3  2020-01-02 07:03:03.000   \n4    0.0          6.5                    0.3  2020-01-02 09:41:02.000   \n\n      lpep_pickup_datetime  mta_tax  passenger_count  payment_type  \\\n0  2020-01-01 06:47:28.000      0.5              1.0           2.0   \n1  2020-01-01 13:25:34.000      0.5              1.0           2.0   \n2  2020-01-01 14:20:35.000      0.5              1.0           2.0   \n3  2020-01-02 06:56:47.000      0.5              1.0           2.0   \n4  2020-01-02 09:34:46.000      0.5              1.0           2.0   \n\n  store_and_fwd_flag  tip_amount  tolls_amount  total_amount  trip_distance  \\\n0                  N         0.0           0.0           7.3           1.47   \n1                  N         0.0           0.0           7.3           1.49   \n2                  N         0.0           0.0           7.3           1.31   \n3                  N         0.0           0.0           7.3           1.43   \n4                  N         0.0           0.0           7.3           1.10   \n\n   trip_type  \n0        1.0  \n1        1.0  \n2        1.0  \n3        1.0  \n4        1.0  ",
      "text/html": "<div>\n<style scoped>\n    .dataframe tbody tr th:only-of-type {\n        vertical-align: middle;\n    }\n\n    .dataframe tbody tr th {\n        vertical-align: top;\n    }\n\n    .dataframe thead th {\n        text-align: right;\n    }\n</style>\n<table border=\"1\" class=\"dataframe\">\n  <thead>\n    <tr style=\"text-align: right;\">\n      <th></th>\n      <th>DOLocationID</th>\n      <th>PULocationID</th>\n      <th>RatecodeID</th>\n      <th>VendorID</th>\n      <th>congestion_surcharge</th>\n      <th>extra</th>\n      <th>fare_amount</th>\n      <th>improvement_surcharge</th>\n      <th>lpep_dropoff_datetime</th>\n      <th>lpep_pickup_datetime</th>\n      <th>mta_tax</th>\n      <th>passenger_count</th>\n      <th>payment_type</th>\n      <th>store_and_fwd_flag</th>\n      <th>tip_amount</th>\n      <th>tolls_amount</th>\n      <th>total_amount</th>\n      <th>trip_distance</th>\n      <th>trip_type</th>\n    </tr>\n  </thead>\n  <tbody>\n    <tr>\n      <td>0</td>\n      <td>75</td>\n      <td>74</td>\n      <td>1.0</td>\n      <td>2.0</td>\n      <td>0.0</td>\n      <td>0.0</td>\n      <td>6.5</td>\n      <td>0.3</td>\n      <td>2020-01-01 06:52:54.000</td>\n      <td>2020-01-01 06:47:28.000</td>\n      <td>0.5</td>\n      <td>1.0</td>\n      <td>2.0</td>\n      <td>N</td>\n      <td>0.0</td>\n      <td>0.0</td>\n      <td>7.3</td>\n      <td>1.47</td>\n      <td>1.0</td>\n    </tr>\n    <tr>\n      <td>1</td>\n      <td>75</td>\n      <td>74</td>\n      <td>1.0</td>\n      <td>2.0</td>\n      <td>0.0</td>\n      <td>0.0</td>\n      <td>6.5</td>\n      <td>0.3</td>\n      <td>2020-01-01 13:30:43.000</td>\n      <td>2020-01-01 13:25:34.000</td>\n      <td>0.5</td>\n      <td>1.0</td>\n      <td>2.0</td>\n      <td>N</td>\n      <td>0.0</td>\n      <td>0.0</td>\n      <td>7.3</td>\n      <td>1.49</td>\n      <td>1.0</td>\n    </tr>\n    <tr>\n      <td>2</td>\n      <td>75</td>\n      <td>74</td>\n      <td>1.0</td>\n      <td>2.0</td>\n      <td>0.0</td>\n      <td>0.0</td>\n      <td>6.5</td>\n      <td>0.3</td>\n      <td>2020-01-01 14:26:25.000</td>\n      <td>2020-01-01 14:20:35.000</td>\n      <td>0.5</td>\n      <td>1.0</td>\n      <td>2.0</td>\n      <td>N</td>\n      <td>0.0</td>\n      <td>0.0</td>\n      <td>7.3</td>\n      <td>1.31</td>\n      <td>1.0</td>\n    </tr>\n    <tr>\n      <td>3</td>\n      <td>75</td>\n      <td>74</td>\n      <td>1.0</td>\n      <td>2.0</td>\n      <td>0.0</td>\n      <td>0.0</td>\n      <td>6.5</td>\n      <td>0.3</td>\n      <td>2020-01-02 07:03:03.000</td>\n      <td>2020-01-02 06:56:47.000</td>\n      <td>0.5</td>\n      <td>1.0</td>\n      <td>2.0</td>\n      <td>N</td>\n      <td>0.0</td>\n      <td>0.0</td>\n      <td>7.3</td>\n      <td>1.43</td>\n      <td>1.0</td>\n    </tr>\n    <tr>\n      <td>4</td>\n      <td>75</td>\n      <td>74</td>\n      <td>1.0</td>\n      <td>2.0</td>\n      <td>0.0</td>\n      <td>0.0</td>\n      <td>6.5</td>\n      <td>0.3</td>\n      <td>2020-01-02 09:41:02.000</td>\n      <td>2020-01-02 09:34:46.000</td>\n      <td>0.5</td>\n      <td>1.0</td>\n      <td>2.0</td>\n      <td>N</td>\n      <td>0.0</td>\n      <td>0.0</td>\n      <td>7.3</td>\n      <td>1.10</td>\n      <td>1.0</td>\n    </tr>\n  </tbody>\n</table>\n</div>"
     },
     "execution_count": 33,
     "metadata": {},
     "output_type": "execute_result"
    }
   ],
   "source": [
    "# keep trips where RatecodeID is equal to 1 - Standard Rate\n",
    "taxi_data = taxi_data[taxi_data[\"RatecodeID\"] == 1.0]\n",
    "taxi_data.head()"
   ],
   "metadata": {
    "collapsed": false,
    "pycharm": {
     "name": "#%%\n"
    }
   }
  },
  {
   "cell_type": "code",
   "execution_count": 34,
   "outputs": [
    {
     "data": {
      "text/plain": "DOLocationID                    0\nPULocationID                    0\nRatecodeID                      0\nVendorID                        0\ncongestion_surcharge     20359525\nextra                           0\nfare_amount                     0\nimprovement_surcharge           0\nlpep_dropoff_datetime           0\nlpep_pickup_datetime            0\nmta_tax                         0\npassenger_count                 0\npayment_type                    0\nstore_and_fwd_flag              0\ntip_amount                      0\ntolls_amount                    0\ntotal_amount                    0\ntrip_distance                   0\ntrip_type                     354\ndtype: int64"
     },
     "execution_count": 34,
     "metadata": {},
     "output_type": "execute_result"
    }
   ],
   "source": [
    "taxi_data.isnull().sum()"
   ],
   "metadata": {
    "collapsed": false,
    "pycharm": {
     "name": "#%%\n"
    }
   }
  },
  {
   "cell_type": "code",
   "execution_count": 35,
   "outputs": [
    {
     "data": {
      "text/plain": "array([ 74,  41,  75,  42,  55, 116,  82,  92,  95, 130,  33,  25, 127,\n       112,  97, 196, 146, 260,  80, 227, 108, 166,   7,  18, 129,  49,\n       174,  29, 247,  65,  66, 223, 134,  52, 145, 243, 242,  61, 173,\n        16, 181,  14, 226, 205,  69,  28, 244, 254, 147,  40,  94,  39,\n       167, 159, 131, 179, 225,  26, 197, 228,  93, 136,  78,  24, 165,\n       216, 182,  83,  37, 152,   3, 193, 121, 119, 248, 168, 241,  17,\n        89,  43,  32,  86,  47, 220,  76,  19, 188, 210, 122,  72, 102,\n        21, 263, 177, 189, 175,  60, 235,  20, 157, 191, 192, 236,  98,\n       208,  73,  56, 215, 265,  10, 258, 101, 250, 217, 106, 200,  91,\n        53, 135, 155, 124,   9,  35, 120,  70,  34, 264,  62, 218, 132,\n       171,  81,  54, 160, 219, 213, 149, 253, 203, 257, 169, 212, 115,\n        15, 206,  22, 117,  77, 128,  67, 256, 133, 150, 195,   8, 139,\n        63,  85, 154, 185, 221,  71, 252, 126,  11,  64,  96, 190, 138,\n       255,  59,  57,  51,  46, 198, 123, 153, 222,  36, 180, 183,  31,\n       201, 259, 240, 207, 178,  23, 202,  44, 156,  38,   5,  99, 194,\n       184, 262, 187,  58, 151,  84,  27, 109, 214, 118, 232, 229,  45,\n       113, 161, 170, 137, 140,  68, 230,  50, 164,  48, 245, 143, 209,\n       172,  90,   4, 234, 231, 238, 107, 141, 224,  87, 144, 148, 233,\n       162, 142, 237, 246, 100, 163,  88, 261, 186,  79, 125,  13, 239,\n       114, 111, 251,  30, 249,   6,   1, 204,   2, 211, 176, 158,  12,\n       199, 105])"
     },
     "execution_count": 35,
     "metadata": {},
     "output_type": "execute_result"
    }
   ],
   "source": [
    "# checking if any unknown zones (264, 265) appear in the pickup location\n",
    "taxi_data[\"PULocationID\"].unique()"
   ],
   "metadata": {
    "collapsed": false,
    "pycharm": {
     "name": "#%%\n"
    }
   }
  },
  {
   "cell_type": "code",
   "execution_count": 36,
   "outputs": [
    {
     "data": {
      "text/plain": "array([ 75,  74,  41,  42, 166, 152, 168, 151, 116, 244,  24,  43,  69,\n       159, 247, 243, 238, 126, 127, 263, 119, 167, 235, 236,  47, 169,\n       250, 182, 120, 183, 265,  78, 220, 259, 248, 147, 153,  18, 241,\n       136, 212, 213,  20, 242,  31,  94,   3,  81, 174, 264, 185,  46,\n       208, 254,  58, 194, 138, 128,  59,  32, 240,  60,  51,  93, 200,\n       184, 262,  64,  68, 163, 143, 140,  48,  82, 164, 146, 129, 142,\n       233,  83,   7, 132, 144, 137, 237, 196, 234,  80,  91,  28, 223,\n        37,  86,  71, 149, 181,  22, 155, 226, 173, 216,  97,  61,   9,\n       108, 252, 191, 134, 130, 205, 197,  17, 145, 193,  33,  21,  76,\n       227, 171, 135,  55, 179,  63,  29,  35,  92,  89, 256,  19,  26,\n        25,  16,  14, 222,  70, 124,  11,  53, 180, 198, 225,  65, 101,\n       217, 121, 215, 106, 202,  49,  95, 112, 255,  72, 178, 165,  56,\n       177,  85,  15, 203, 189, 123, 160,   8,  62, 232,  34, 122, 188,\n        39, 157, 260, 258,  36,  67,  77, 228, 209,  66, 131,  96, 192,\n       113,  73, 210, 175, 195,  10, 154, 219,  98, 102, 218, 150, 133,\n        40, 253,  52,  57,  38, 141, 156, 190, 118, 117, 139,  90, 257,\n        54, 251, 261, 148, 201, 107,  13, 207, 161, 109, 111, 187, 115,\n        44,  23,   5,  99, 221,  45,   6,  84,  30,  50,  87, 162, 125,\n       186,  88, 231, 100,  79, 229, 246, 230, 214, 170,   4, 114, 224,\n       211, 206, 239, 245, 172, 158, 249,   1,  27,  12, 176, 204,   2,\n       105, 110, 199])"
     },
     "execution_count": 36,
     "metadata": {},
     "output_type": "execute_result"
    }
   ],
   "source": [
    "# checking if any unknown zones (264, 265) appear in the dropoff location\n",
    "taxi_data[\"DOLocationID\"].unique()"
   ],
   "metadata": {
    "collapsed": false,
    "pycharm": {
     "name": "#%%\n"
    }
   }
  },
  {
   "cell_type": "code",
   "execution_count": 38,
   "outputs": [
    {
     "data": {
      "text/plain": "1.0    22329627\n2.0     2027291\n5.0      896542\n6.0      466095\n3.0      432914\n4.0      147786\n0.0       23175\n9.0           3\n7.0           1\nName: passenger_count, dtype: int64"
     },
     "execution_count": 38,
     "metadata": {},
     "output_type": "execute_result"
    }
   ],
   "source": [
    "taxi_data[\"passenger_count\"].value_counts()"
   ],
   "metadata": {
    "collapsed": false,
    "pycharm": {
     "name": "#%%\n"
    }
   }
  },
  {
   "cell_type": "code",
   "execution_count": null,
   "outputs": [],
   "source": [
    "# for rides with no passengers, replace with 1\n",
    "taxi_data = taxi_data[\"passenger_count\"].replace(0,1)"
   ],
   "metadata": {
    "collapsed": false,
    "pycharm": {
     "name": "#%%\n"
    }
   }
  }
 ],
 "metadata": {
  "kernelspec": {
   "display_name": "Python 3",
   "language": "python",
   "name": "python3"
  },
  "language_info": {
   "codemirror_mode": {
    "name": "ipython",
    "version": 2
   },
   "file_extension": ".py",
   "mimetype": "text/x-python",
   "name": "python",
   "nbconvert_exporter": "python",
   "pygments_lexer": "ipython2",
   "version": "2.7.6"
  }
 },
 "nbformat": 4,
 "nbformat_minor": 0
}